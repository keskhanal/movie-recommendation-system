{
 "cells": [
  {
   "cell_type": "markdown",
   "id": "e4e745da",
   "metadata": {},
   "source": [
    "## importing libraries"
   ]
  },
  {
   "cell_type": "code",
   "execution_count": null,
   "id": "17c1849a",
   "metadata": {},
   "outputs": [],
   "source": [
    "import pandas as pd\n",
    "import numpy as np"
   ]
  },
  {
   "cell_type": "markdown",
   "id": "c8689c62",
   "metadata": {},
   "source": [
    "## loading datasets"
   ]
  },
  {
   "cell_type": "code",
   "execution_count": null,
   "id": "87948dc1",
   "metadata": {},
   "outputs": [],
   "source": [
    "movies = pd.read_csv('./data/movies.csv')\n",
    "credits = pd.read_csv('./data/credits.csv')\n",
    "print(movies.shape, credits.shape)\n",
    "movies.head(1)"
   ]
  },
  {
   "cell_type": "code",
   "execution_count": null,
   "id": "662d11b1",
   "metadata": {},
   "outputs": [],
   "source": [
    "credits.head(2)"
   ]
  },
  {
   "cell_type": "code",
   "execution_count": null,
   "id": "fcd174a4",
   "metadata": {},
   "outputs": [],
   "source": [
    "#merge credits with movies dataframe\n",
    "movies_df = movies.merge(credits, on=\"title\")\n",
    "print(movies.shape)\n",
    "movies.head(1)"
   ]
  },
  {
   "cell_type": "markdown",
   "id": "b03fc9de",
   "metadata": {},
   "source": [
    "## Data preprocessing"
   ]
  },
  {
   "cell_type": "code",
   "execution_count": null,
   "id": "5d2b9e82",
   "metadata": {
    "scrolled": false
   },
   "outputs": [],
   "source": [
    "#extracting only required columns\n",
    "movies_df = movies_df.loc[:, ['movie_id','title','genres','overview','keywords','cast','crew']]\n",
    "movies_df.head(1)"
   ]
  },
  {
   "cell_type": "code",
   "execution_count": null,
   "id": "65bc6483",
   "metadata": {
    "scrolled": true
   },
   "outputs": [],
   "source": [
    "#check if any missing value present in the dataset\n",
    "movies_df.isnull().sum()"
   ]
  },
  {
   "cell_type": "code",
   "execution_count": null,
   "id": "bc223f97",
   "metadata": {},
   "outputs": [],
   "source": [
    "# drop rows having missing values\n",
    "movies_df.dropna(inplace = True)"
   ]
  },
  {
   "cell_type": "code",
   "execution_count": null,
   "id": "151d315f",
   "metadata": {
    "scrolled": true
   },
   "outputs": [],
   "source": [
    "# check if any duplicate rows present\n",
    "movies_df.duplicated().sum()"
   ]
  },
  {
   "cell_type": "code",
   "execution_count": null,
   "id": "93a6dd10",
   "metadata": {},
   "outputs": [],
   "source": [
    "movies_df['overview']"
   ]
  },
  {
   "cell_type": "code",
   "execution_count": null,
   "id": "6c1d2c02",
   "metadata": {
    "scrolled": true
   },
   "outputs": [],
   "source": [
    "#converting string into list\n",
    "movies_df['overview'] = movies_df['overview'].apply(lambda x:x.split())"
   ]
  },
  {
   "cell_type": "code",
   "execution_count": null,
   "id": "dc5d9b5d",
   "metadata": {
    "scrolled": true
   },
   "outputs": [],
   "source": [
    "movies_df['genres'].values"
   ]
  },
  {
   "cell_type": "code",
   "execution_count": null,
   "id": "e66ad2b0",
   "metadata": {},
   "outputs": [],
   "source": [
    "import ast\n",
    "\n",
    "def convert(obj):\n",
    "    '''\n",
    "    this function returns the name from the dict \n",
    "    '''\n",
    "    L = []\n",
    "    for i in ast.literal_eval(obj):\n",
    "        L.append(i['name'])\n",
    "    return L"
   ]
  },
  {
   "cell_type": "code",
   "execution_count": null,
   "id": "a75d6646",
   "metadata": {
    "scrolled": false
   },
   "outputs": [],
   "source": [
    "movies_df['genres'] = movies_df['genres'].apply(convert)\n",
    "movies_df.head(1)"
   ]
  },
  {
   "cell_type": "code",
   "execution_count": null,
   "id": "9e443d92",
   "metadata": {},
   "outputs": [],
   "source": [
    "movies_df['keywords'] = movies_df['keywords'].apply(convert)"
   ]
  },
  {
   "cell_type": "code",
   "execution_count": null,
   "id": "0becb105",
   "metadata": {},
   "outputs": [],
   "source": [
    "def convert2(obj):\n",
    "    '''\n",
    "    this function returns the first three name from the dict\n",
    "    '''\n",
    "    L = []\n",
    "    counter = 0\n",
    "    for i in ast.literal_eval(obj):\n",
    "        if counter != 3:\n",
    "            L.append(i['name'])\n",
    "            counter+=1\n",
    "        else:\n",
    "            break\n",
    "    return L"
   ]
  },
  {
   "cell_type": "code",
   "execution_count": null,
   "id": "c6fa184a",
   "metadata": {
    "scrolled": true
   },
   "outputs": [],
   "source": [
    "movies_df['cast'] = movies_df['cast'].apply(convert2)"
   ]
  },
  {
   "cell_type": "code",
   "execution_count": null,
   "id": "58dc98b7",
   "metadata": {},
   "outputs": [],
   "source": [
    "movies_df.head(1)"
   ]
  },
  {
   "cell_type": "code",
   "execution_count": null,
   "id": "ec07f5d1",
   "metadata": {},
   "outputs": [],
   "source": [
    "def convert_crew(obj):\n",
    "    '''\n",
    "    this function returns the name from the dict where the job is Director\n",
    "    '''\n",
    "    L = []\n",
    "    for i in ast.literal_eval(obj):\n",
    "        if i['job']=='Director':\n",
    "            L.append(i['name'])\n",
    "            break\n",
    "    return L"
   ]
  },
  {
   "cell_type": "code",
   "execution_count": null,
   "id": "91aa7336",
   "metadata": {},
   "outputs": [],
   "source": [
    "movies_df['crew'] = movies_df['crew'].apply(convert_crew)"
   ]
  },
  {
   "cell_type": "code",
   "execution_count": null,
   "id": "7b3772c3",
   "metadata": {
    "scrolled": true
   },
   "outputs": [],
   "source": [
    "movies_df.head(3)"
   ]
  },
  {
   "cell_type": "code",
   "execution_count": null,
   "id": "a298e5f3",
   "metadata": {},
   "outputs": [],
   "source": [
    "#transforming the string having space to nonspace \n",
    "movies_df['genres'] = movies_df['genres'].apply(lambda x: [i.replace(\" \",\"\") for i in x])\n",
    "movies_df['keywords'] = movies_df['keywords'].apply(lambda x: [i.replace(\" \",\"\") for i in x])\n",
    "movies_df['cast'] = movies_df['cast'].apply(lambda x: [i.replace(\" \",\"\") for i in x])\n",
    "movies_df['crew'] = movies_df['crew'].apply(lambda x: [i.replace(\" \",\"\") for i in x])"
   ]
  },
  {
   "cell_type": "code",
   "execution_count": null,
   "id": "98610898",
   "metadata": {},
   "outputs": [],
   "source": [
    "movies_df.head(2)"
   ]
  },
  {
   "cell_type": "code",
   "execution_count": null,
   "id": "743779c9",
   "metadata": {},
   "outputs": [],
   "source": [
    "movies_df['tags'] = movies_df['genres'] + movies_df['overview'] + movies_df['keywords'] + movies_df['cast'] + movies_df['crew']\n",
    "movies_df.head(3)"
   ]
  },
  {
   "cell_type": "code",
   "execution_count": null,
   "id": "da6fb7c0",
   "metadata": {
    "scrolled": true
   },
   "outputs": [],
   "source": [
    "#taking only necessary columns\n",
    "new_movies_df = movies_df.loc[:, ['movie_id', 'title', 'tags']]\n",
    "new_movies_df.head()"
   ]
  },
  {
   "cell_type": "code",
   "execution_count": null,
   "id": "4b64eb8d",
   "metadata": {},
   "outputs": [],
   "source": [
    "#converting list to string \n",
    "new_movies_df['tags'] = new_movies_df['tags'].apply(lambda x: \" \".join(x))\n",
    "new_movies_df['tags'][0]"
   ]
  },
  {
   "cell_type": "code",
   "execution_count": null,
   "id": "2a4eb0e9",
   "metadata": {},
   "outputs": [],
   "source": [
    "#convert all letters to lowercase\n",
    "new_movies_df['tags'] = new_movies_df['tags'].apply(lambda x: x.lower())\n",
    "new_movies_df.head()"
   ]
  },
  {
   "cell_type": "code",
   "execution_count": null,
   "id": "c851fdfc",
   "metadata": {},
   "outputs": [],
   "source": [
    "#steming the words\n",
    "import nltk\n",
    "\n",
    "from nltk.stem.porter import PorterStemmer\n",
    "ps = PorterStemmer()"
   ]
  },
  {
   "cell_type": "code",
   "execution_count": null,
   "id": "92583fe5",
   "metadata": {},
   "outputs": [],
   "source": [
    "ps.stem(\"loving\")"
   ]
  },
  {
   "cell_type": "code",
   "execution_count": null,
   "id": "c9dfc8c7",
   "metadata": {},
   "outputs": [],
   "source": [
    "def stem(text):\n",
    "    \"\"\"\n",
    "    this stem function is used to stemming the words\n",
    "    text - words given by the users which needs to be stemmed\n",
    "    \"\"\"\n",
    "    y = []\n",
    "    for i in text.split():\n",
    "        y.append(ps.stem(i))\n",
    "        \n",
    "    string = \" \".join(y)\n",
    "    return string"
   ]
  },
  {
   "cell_type": "code",
   "execution_count": null,
   "id": "13263acd",
   "metadata": {},
   "outputs": [],
   "source": [
    "new_movies_df['tags'] = new_movies_df['tags'].apply(stem)\n",
    "new_movies_df.head()"
   ]
  },
  {
   "cell_type": "markdown",
   "id": "5087d936",
   "metadata": {},
   "source": [
    "### text vectorization"
   ]
  },
  {
   "cell_type": "code",
   "execution_count": null,
   "id": "f263e0fc",
   "metadata": {},
   "outputs": [],
   "source": [
    "from sklearn.feature_extraction.text import CountVectorizer\n",
    "cv = CountVectorizer(max_features=3000, stop_words=\"english\")"
   ]
  },
  {
   "cell_type": "code",
   "execution_count": null,
   "id": "7c6cd5bf",
   "metadata": {},
   "outputs": [],
   "source": [
    "vectors = cv.fit_transform(new_movies_df['tags']).toarray()\n",
    "vectors"
   ]
  },
  {
   "cell_type": "code",
   "execution_count": null,
   "id": "15809b57",
   "metadata": {},
   "outputs": [],
   "source": [
    "#calculating the cosine similarity between movies\n",
    "from sklearn.metrics.pairwise import cosine_similarity\n",
    "\n",
    "similarity = cosine_similarity(vectors)"
   ]
  },
  {
   "cell_type": "markdown",
   "id": "310d7a53",
   "metadata": {},
   "source": [
    "## Recommendation"
   ]
  },
  {
   "cell_type": "code",
   "execution_count": null,
   "id": "c3a0392a",
   "metadata": {},
   "outputs": [],
   "source": [
    "# function to recommend movie\n",
    "def recommend(movie):\n",
    "    movie_index = new_movies_df[new_movies_df['title']==movie].index[0]\n",
    "    \n",
    "    #calculate the distances between the movies\n",
    "    distances = similarity[movie_index]\n",
    "    \n",
    "    #sort the distances and take top five similiar movies\n",
    "    movies_list = sorted(list(enumerate(distances)), reverse=True, key=lambda x:x[1])[1:6]\n",
    "    \n",
    "    print(f'Top 5 recommended movies for {movie} are: \\n')\n",
    "    for i in movies_list:\n",
    "        print(new_movies_df.iloc[i[0]].title)"
   ]
  },
  {
   "cell_type": "code",
   "execution_count": null,
   "id": "2c000660",
   "metadata": {
    "scrolled": true
   },
   "outputs": [],
   "source": [
    "# Recommendation\n",
    "recommend('Batman Begins')"
   ]
  }
 ],
 "metadata": {
  "kernelspec": {
   "display_name": "Python 3 (ipykernel)",
   "language": "python",
   "name": "python3"
  },
  "language_info": {
   "codemirror_mode": {
    "name": "ipython",
    "version": 3
   },
   "file_extension": ".py",
   "mimetype": "text/x-python",
   "name": "python",
   "nbconvert_exporter": "python",
   "pygments_lexer": "ipython3",
   "version": "3.9.7"
  }
 },
 "nbformat": 4,
 "nbformat_minor": 5
}
